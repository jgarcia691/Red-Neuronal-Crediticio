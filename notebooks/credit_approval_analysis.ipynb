{
  "cells": [
    {
      "cell_type": "markdown",
      "id": "e550ec11",
      "metadata": {
        "id": "e550ec11"
      },
      "source": [
        "# Configuración inicial para Google Colab\n",
        "Estas celdas te ayudarán a instalar dependencias y acceder a tus archivos desde Google Drive o subiéndolos manualmente."
      ]
    },
    {
      "cell_type": "code",
      "execution_count": null,
      "id": "fd48be22",
      "metadata": {
        "id": "fd48be22"
      },
      "outputs": [],
      "source": [
        "# Instalar dependencias desde requirements.txt (sube el archivo o usa Drive)\n",
        "!pip install -r requirements.txt"
      ]
    },
    {
      "cell_type": "code",
      "source": [
        "import os\n",
        "from google.colab import drive\n",
        "\n",
        "# Ensure the parent directory for the second mount point exists\n",
        "mount_point = '/content/drive/neuronal'\n",
        "parent_dir = os.path.dirname(mount_point)\n",
        "\n",
        "# Check if the parent directory exists, and create it if it doesn't\n",
        "if not os.path.exists(parent_dir):\n",
        "    os.makedirs(parent_dir)\n",
        "\n",
        "# Now mount Google Drive to the specified directory\n",
        "drive.mount(mount_point)"
      ],
      "metadata": {
        "id": "6nXGlr5Nnnm6",
        "outputId": "6267a524-425d-4d7d-a7cf-59464ec4ea0a",
        "colab": {
          "base_uri": "https://localhost:8080/"
        }
      },
      "id": "6nXGlr5Nnnm6",
      "execution_count": 9,
      "outputs": [
        {
          "output_type": "stream",
          "name": "stdout",
          "text": [
            "Mounted at /content/drive/neuronal\n"
          ]
        }
      ]
    },
    {
      "cell_type": "code",
      "source": [
        "!python /content/drive/neuronal/MyDrive/neuronal/main.py --kaggle"
      ],
      "metadata": {
        "id": "zCqdyowmp7Xt",
        "outputId": "2afd0a7d-6955-4c3f-98fd-3b86a05e914c",
        "colab": {
          "base_uri": "https://localhost:8080/"
        }
      },
      "id": "zCqdyowmp7Xt",
      "execution_count": 13,
      "outputs": [
        {
          "output_type": "stream",
          "name": "stdout",
          "text": [
            "\n",
            "=== PROCEDIMIENTO DEL PIPELINE ===\n",
            "1. Procesamiento y generación/carga de datos\n",
            "2. Entrenamiento del modelo\n",
            "3. Evaluación y visualización de resultados\n",
            "\n",
            "Descargando el dataset de Kaggle (uciml/german-credit)...\n",
            "Ruta de los archivos del dataset: /kaggle/input/german-credit\n",
            "Datos cargados desde Kaggle: /kaggle/input/german-credit/german_credit_data.csv\n",
            "Preparando datos para entrenamiento...\n",
            "Limpiando datos...\n",
            "Valores faltantes encontrados:\n",
            "Saving accounts     183\n",
            "Checking account    394\n",
            "dtype: int64\n",
            "Tipos de datos:\n",
            "Unnamed: 0           int64\n",
            "Age                  int64\n",
            "Sex                 object\n",
            "Job                  int64\n",
            "Housing             object\n",
            "Saving accounts     object\n",
            "Checking account    object\n",
            "Credit amount        int64\n",
            "Duration             int64\n",
            "Purpose             object\n",
            "default              int64\n",
            "dtype: object\n",
            "Codificando variables categóricas...\n",
            "Codificada columna: Sex\n",
            "Codificada columna: Housing\n",
            "Codificada columna: Saving accounts\n",
            "Codificada columna: Checking account\n",
            "Codificada columna: Purpose\n",
            "Escalando características numéricas...\n",
            "Conjunto de entrenamiento: (600, 10)\n",
            "Conjunto de prueba: (400, 10)\n",
            "Características utilizadas: ['Unnamed: 0', 'Age', 'Sex', 'Job', 'Housing', 'Saving accounts', 'Checking account', 'Credit amount', 'Duration', 'Purpose']\n",
            "Aplicando SMOTE para balancear las clases...\n",
            "Clases después de SMOTE: [460 460]\n",
            "Iniciando entrenamiento...\n",
            "Creando modelo...\n",
            "Modelo creado:\n",
            "Capa 1: 10 → 64 neuronas (704 parámetros)\n",
            "Capa 2: 64 → 1 neuronas (65 parámetros)\n",
            "Total de parámetros: 769\n",
            "MLP Manual - 2 capas, 769 parámetros\n",
            "Entrenando con 736 muestras, validando con 184 muestras\n",
            "Época 20/200 - Loss: 0.6866 - Val Loss: 0.8399\n",
            "Época 40/200 - Loss: 0.6275 - Val Loss: 0.8595\n",
            "Época 60/200 - Loss: 0.5962 - Val Loss: 0.8226\n",
            "Época 80/200 - Loss: 0.5773 - Val Loss: 0.7886\n",
            "Época 100/200 - Loss: 0.5647 - Val Loss: 0.7646\n",
            "Época 120/200 - Loss: 0.5555 - Val Loss: 0.7479\n",
            "Época 140/200 - Loss: 0.5481 - Val Loss: 0.7356\n",
            "Época 160/200 - Loss: 0.5422 - Val Loss: 0.7265\n",
            "Época 180/200 - Loss: 0.5374 - Val Loss: 0.7196\n",
            "Época 200/200 - Loss: 0.5333 - Val Loss: 0.7144\n",
            "Entrenamiento completado!\n",
            "\n",
            "Resumen de la arquitectura del modelo:\n",
            "Capa 1: 10 → 64 neuronas (704 parámetros)\n",
            "Capa 2: 64 → 1 neuronas (65 parámetros)\n",
            "Total de parámetros: 769\n",
            "\n",
            "Métricas de evaluación:\n",
            "Accuracy: 0.7500\n",
            "Precision: 0.8301\n",
            "Recall: 0.8464\n",
            "F1-Score: 0.8382\n",
            "ROC-AUC: 0.6413\n",
            "Analizando importancia de características usando permutation...\n",
            "Figure(1500x600)\n"
          ]
        }
      ]
    }
  ],
  "metadata": {
    "language_info": {
      "name": "python"
    },
    "colab": {
      "provenance": []
    },
    "kernelspec": {
      "name": "python3",
      "display_name": "Python 3"
    }
  },
  "nbformat": 4,
  "nbformat_minor": 5
}