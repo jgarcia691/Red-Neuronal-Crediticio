{
 "cells": [
  {
   "cell_type": "markdown",
   "id": "e550ec11",
   "metadata": {},
   "source": [
    "# Configuración inicial para Google Colab\n",
    "Estas celdas te ayudarán a instalar dependencias y acceder a tus archivos desde Google Drive o subiéndolos manualmente."
   ]
  },
  {
   "cell_type": "code",
   "execution_count": null,
   "id": "fd48be22",
   "metadata": {},
   "outputs": [],
   "source": [
    "# Instalar dependencias desde requirements.txt (sube el archivo o usa Drive)\n",
    "!pip install -r requirements.txt"
   ]
  },
  {
   "cell_type": "code",
   "execution_count": null,
   "id": "2522878b",
   "metadata": {},
   "outputs": [],
   "source": [
    "# Montar Google Drive para acceder a archivos\n",
    "from google.colab import drive\n",
    "drive.mount('/content/drive')"
   ]
  },
  {
   "cell_type": "code",
   "execution_count": null,
   "id": "eca841b6",
   "metadata": {},
   "outputs": [],
   "source": [
    "# Alternativa: Subir archivos manualmente si no usas Google Drive\n",
    "from google.colab import files\n",
    "uploaded = files.upload()"
   ]
  }
 ],
 "metadata": {
  "language_info": {
   "name": "python"
  }
 },
 "nbformat": 4,
 "nbformat_minor": 5
}
